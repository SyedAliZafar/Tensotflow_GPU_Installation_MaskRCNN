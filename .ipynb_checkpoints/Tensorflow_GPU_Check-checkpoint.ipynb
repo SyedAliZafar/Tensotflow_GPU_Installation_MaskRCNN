{
 "cells": [
  {
   "cell_type": "code",
   "execution_count": null,
   "id": "f3e26fd2",
   "metadata": {},
   "outputs": [],
   "source": [
    "## after installing everything\n",
    "## pip install jupyter will make it work only"
   ]
  },
  {
   "cell_type": "code",
   "execution_count": null,
   "id": "f64c66d8",
   "metadata": {},
   "outputs": [],
   "source": [
    "import tensorflow as tf"
   ]
  },
  {
   "cell_type": "code",
   "execution_count": null,
   "id": "ac1c2bf3",
   "metadata": {},
   "outputs": [],
   "source": [
    "tf.__version__"
   ]
  },
  {
   "cell_type": "code",
   "execution_count": null,
   "id": "56d11775",
   "metadata": {},
   "outputs": [],
   "source": [
    "print(\"Num of GPU available: \", len(tf.config.experimental.list_physical_devices('GPU')))"
   ]
  },
  {
   "cell_type": "code",
   "execution_count": null,
   "id": "7e4efe83",
   "metadata": {},
   "outputs": [],
   "source": [
    "from tensorflow.python.client import device_lib\n",
    "\n",
    "def get_available_gpus():\n",
    "    local_device_protos = device_lib.list_local_devices()\n",
    "    return [x.name for x in local_device_protos if x.device_type == 'GPU']\n"
   ]
  },
  {
   "cell_type": "code",
   "execution_count": null,
   "id": "3eb09535",
   "metadata": {},
   "outputs": [],
   "source": [
    "get_available_gpus()"
   ]
  },
  {
   "cell_type": "code",
   "execution_count": null,
   "id": "aedc4b51",
   "metadata": {},
   "outputs": [],
   "source": [
    "physical_device = tf.config.experimental.list_physical_devices('GPU')"
   ]
  },
  {
   "cell_type": "code",
   "execution_count": null,
   "id": "5b195c0e",
   "metadata": {},
   "outputs": [],
   "source": [
    "physical_devices"
   ]
  },
  {
   "cell_type": "code",
   "execution_count": null,
   "id": "580f2ad3",
   "metadata": {},
   "outputs": [],
   "source": [
    "tf.config.experimental.get_memory_growth(physical_device[0])\n"
   ]
  },
  {
   "cell_type": "code",
   "execution_count": null,
   "id": "692ac00a",
   "metadata": {},
   "outputs": [],
   "source": [
    "tf.config.experimental.get_memory_growth(physical_device[0])"
   ]
  },
  {
   "cell_type": "code",
   "execution_count": null,
   "id": "1e3d19ac",
   "metadata": {},
   "outputs": [],
   "source": [
    "## Setting up GPU for training\n",
    "\n",
    "tf.config.experimental.set_memory_growth(physical_device[0],True)\n",
    "tf.config.experimental.set_memory_growth(physical_device[1],True)"
   ]
  },
  {
   "cell_type": "code",
   "execution_count": null,
   "id": "631ec5bb",
   "metadata": {},
   "outputs": [],
   "source": []
  },
  {
   "cell_type": "code",
   "execution_count": null,
   "id": "405f669f",
   "metadata": {},
   "outputs": [],
   "source": [
    "#### PYTORCH\n",
    "## conda install pytorch torchvision cudatoolkit=10.0 -c pytorch\n",
    "import torch\n",
    "x = torch.rand(5, 3)\n",
    "print(x)"
   ]
  },
  {
   "cell_type": "code",
   "execution_count": null,
   "id": "5cfd7b0d",
   "metadata": {},
   "outputs": [],
   "source": [
    "torch.cuda.is_available()"
   ]
  },
  {
   "cell_type": "code",
   "execution_count": null,
   "id": "05a1bfbf",
   "metadata": {},
   "outputs": [],
   "source": [
    "import tensorflow as tf\n",
    "with tf.Session() as sess:\n",
    "    devices = sess.list_devices()"
   ]
  },
  {
   "cell_type": "code",
   "execution_count": null,
   "id": "c7e13e32",
   "metadata": {},
   "outputs": [],
   "source": [
    "devices"
   ]
  },
  {
   "cell_type": "code",
   "execution_count": null,
   "id": "246f05c8",
   "metadata": {},
   "outputs": [],
   "source": []
  }
 ],
 "metadata": {
  "kernelspec": {
   "display_name": "Python 3",
   "language": "python",
   "name": "python3"
  },
  "language_info": {
   "codemirror_mode": {
    "name": "ipython",
    "version": 3
   },
   "file_extension": ".py",
   "mimetype": "text/x-python",
   "name": "python",
   "nbconvert_exporter": "python",
   "pygments_lexer": "ipython3",
   "version": "3.7.12"
  }
 },
 "nbformat": 4,
 "nbformat_minor": 5
}
